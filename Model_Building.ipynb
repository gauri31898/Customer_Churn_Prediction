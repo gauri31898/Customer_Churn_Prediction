{
 "cells": [
  {
   "cell_type": "code",
   "execution_count": 18,
   "id": "2d226943",
   "metadata": {},
   "outputs": [],
   "source": [
    "import pandas as pd\n",
    "from datetime import datetime, timedelta, date\n",
    "import datetime as dt\n",
    "import numpy as np\n",
    "import matplotlib.pyplot as plt\n",
    "import seaborn as sns\n",
    "import pandas_profiling as pp\n",
    "import random \n",
    "import math\n",
    "import warnings\n",
    "warnings.filterwarnings('ignore')\n",
    "warnings.filterwarnings(\"ignore\", category=DeprecationWarning)\n"
   ]
  },
  {
   "cell_type": "code",
   "execution_count": 32,
   "id": "b4b1da12-0e2c-4bf8-ab52-c38cd2f154be",
   "metadata": {},
   "outputs": [],
   "source": [
    "from sklearn.preprocessing import LabelEncoder,OneHotEncoder,StandardScaler\n",
    "from sklearn.ensemble import RandomForestClassifier\n",
    "from sklearn.feature_selection import RFE\n",
    "\n",
    "\n",
    "import warnings \n",
    "warnings.filterwarnings(\"ignore\", category=FutureWarning)\n",
    "import statsmodels.api as sm\n",
    "from sklearn.preprocessing import StandardScaler\n",
    "from sklearn.linear_model import LogisticRegression\n",
    "from sklearn.metrics import accuracy_score\n",
    "from sklearn.model_selection import train_test_split\n",
    "from sklearn.metrics import confusion_matrix\n",
    "from sklearn.metrics import recall_score, precision_score, f1_score\n",
    "from sklearn.metrics import classification_report, confusion_matrix\n",
    "from sklearn.pipeline import Pipeline\n",
    "from sklearn.pipeline import make_pipeline\n",
    "from sklearn.svm import SVC\n",
    "from sklearn.neighbors import KNeighborsClassifier\n",
    "from sklearn.tree import DecisionTreeClassifier\n",
    "from sklearn.model_selection import cross_validate\n",
    "from sklearn.svm import LinearSVC\n",
    "from sklearn.naive_bayes import MultinomialNB, BernoulliNB\n",
    "from sklearn.model_selection import cross_val_score\n",
    "from sklearn.metrics import accuracy_score, log_loss\n",
    "from sklearn.svm import SVC, LinearSVC, NuSVC\n",
    "from sklearn.tree import DecisionTreeClassifier\n",
    "from sklearn.ensemble import RandomForestClassifier, AdaBoostClassifier, GradientBoostingClassifier\n",
    "from sklearn.naive_bayes import GaussianNB\n",
    "from sklearn.discriminant_analysis import LinearDiscriminantAnalysis\n",
    "from sklearn.discriminant_analysis import QuadraticDiscriminantAnalysis\n",
    "from xgboost import XGBClassifier\n",
    "import xgboost as xgb\n",
    "#model selection\n",
    "from sklearn.model_selection import train_test_split as tts\n",
    "from sklearn.model_selection import KFold \n",
    "from sklearn.metrics import accuracy_score,precision_score,recall_score,confusion_matrix,roc_curve,roc_auc_score,classification_report\n",
    "from sklearn.model_selection import GridSearchCV\n",
    "from imblearn.over_sampling import SMOTE"
   ]
  },
  {
   "cell_type": "code",
   "execution_count": null,
   "id": "5c810c42-fc11-49aa-a936-483f125adc87",
   "metadata": {},
   "outputs": [],
   "source": []
  },
  {
   "cell_type": "code",
   "execution_count": null,
   "id": "1d62e5d7-9ce1-4789-b212-8e87c6bfc4a3",
   "metadata": {},
   "outputs": [],
   "source": []
  },
  {
   "cell_type": "code",
   "execution_count": 23,
   "id": "b023d55b-94d1-49c6-8d5a-a3a6d371009d",
   "metadata": {},
   "outputs": [],
   "source": [
    "data = pd.read_csv('../data/raw/tel_churn_raw.csv')"
   ]
  },
  {
   "cell_type": "code",
   "execution_count": 25,
   "id": "ba5b5344-f1ff-48d9-a6f6-3f91083ae92e",
   "metadata": {},
   "outputs": [],
   "source": [
    "# data.drop('Unnamed: 0',1,inplace=True)"
   ]
  },
  {
   "cell_type": "code",
   "execution_count": 26,
   "id": "f0b4046d-84ed-4eb0-8c3b-7b625c01fe2d",
   "metadata": {},
   "outputs": [
    {
     "data": {
      "text/plain": [
       "customerID          0\n",
       "gender              0\n",
       "SeniorCitizen       0\n",
       "Partner             0\n",
       "Dependents          0\n",
       "tenure              0\n",
       "PhoneService        0\n",
       "MultipleLines       0\n",
       "InternetService     0\n",
       "OnlineSecurity      0\n",
       "OnlineBackup        0\n",
       "DeviceProtection    0\n",
       "TechSupport         0\n",
       "StreamingTV         0\n",
       "StreamingMovies     0\n",
       "Contract            0\n",
       "PaperlessBilling    0\n",
       "PaymentMethod       0\n",
       "MonthlyCharges      0\n",
       "TotalCharges        0\n",
       "Churn               0\n",
       "dtype: int64"
      ]
     },
     "execution_count": 26,
     "metadata": {},
     "output_type": "execute_result"
    }
   ],
   "source": [
    "data.isna().sum()"
   ]
  },
  {
   "cell_type": "code",
   "execution_count": 29,
   "id": "3707398c-eaf7-4af4-8bc8-5f578315d72b",
   "metadata": {},
   "outputs": [
    {
     "data": {
      "text/html": [
       "<div>\n",
       "<style scoped>\n",
       "    .dataframe tbody tr th:only-of-type {\n",
       "        vertical-align: middle;\n",
       "    }\n",
       "\n",
       "    .dataframe tbody tr th {\n",
       "        vertical-align: top;\n",
       "    }\n",
       "\n",
       "    .dataframe thead th {\n",
       "        text-align: right;\n",
       "    }\n",
       "</style>\n",
       "<table border=\"1\" class=\"dataframe\">\n",
       "  <thead>\n",
       "    <tr style=\"text-align: right;\">\n",
       "      <th></th>\n",
       "      <th>SeniorCitizen</th>\n",
       "      <th>tenure</th>\n",
       "      <th>MonthlyCharges</th>\n",
       "    </tr>\n",
       "  </thead>\n",
       "  <tbody>\n",
       "    <tr>\n",
       "      <th>count</th>\n",
       "      <td>7043.000000</td>\n",
       "      <td>7043.000000</td>\n",
       "      <td>7043.000000</td>\n",
       "    </tr>\n",
       "    <tr>\n",
       "      <th>mean</th>\n",
       "      <td>0.162147</td>\n",
       "      <td>32.371149</td>\n",
       "      <td>64.761692</td>\n",
       "    </tr>\n",
       "    <tr>\n",
       "      <th>std</th>\n",
       "      <td>0.368612</td>\n",
       "      <td>24.559481</td>\n",
       "      <td>30.090047</td>\n",
       "    </tr>\n",
       "    <tr>\n",
       "      <th>min</th>\n",
       "      <td>0.000000</td>\n",
       "      <td>0.000000</td>\n",
       "      <td>18.250000</td>\n",
       "    </tr>\n",
       "    <tr>\n",
       "      <th>25%</th>\n",
       "      <td>0.000000</td>\n",
       "      <td>9.000000</td>\n",
       "      <td>35.500000</td>\n",
       "    </tr>\n",
       "    <tr>\n",
       "      <th>50%</th>\n",
       "      <td>0.000000</td>\n",
       "      <td>29.000000</td>\n",
       "      <td>70.350000</td>\n",
       "    </tr>\n",
       "    <tr>\n",
       "      <th>75%</th>\n",
       "      <td>0.000000</td>\n",
       "      <td>55.000000</td>\n",
       "      <td>89.850000</td>\n",
       "    </tr>\n",
       "    <tr>\n",
       "      <th>max</th>\n",
       "      <td>1.000000</td>\n",
       "      <td>72.000000</td>\n",
       "      <td>118.750000</td>\n",
       "    </tr>\n",
       "  </tbody>\n",
       "</table>\n",
       "</div>"
      ],
      "text/plain": [
       "       SeniorCitizen       tenure  MonthlyCharges\n",
       "count    7043.000000  7043.000000     7043.000000\n",
       "mean        0.162147    32.371149       64.761692\n",
       "std         0.368612    24.559481       30.090047\n",
       "min         0.000000     0.000000       18.250000\n",
       "25%         0.000000     9.000000       35.500000\n",
       "50%         0.000000    29.000000       70.350000\n",
       "75%         0.000000    55.000000       89.850000\n",
       "max         1.000000    72.000000      118.750000"
      ]
     },
     "execution_count": 29,
     "metadata": {},
     "output_type": "execute_result"
    }
   ],
   "source": [
    "data.describe()"
   ]
  },
  {
   "cell_type": "code",
   "execution_count": 30,
   "id": "69ba4811-508b-4620-a21c-fa80306105df",
   "metadata": {},
   "outputs": [
    {
     "name": "stdout",
     "output_type": "stream",
     "text": [
      "<class 'pandas.core.frame.DataFrame'>\n",
      "RangeIndex: 7043 entries, 0 to 7042\n",
      "Data columns (total 21 columns):\n",
      " #   Column            Non-Null Count  Dtype  \n",
      "---  ------            --------------  -----  \n",
      " 0   customerID        7043 non-null   object \n",
      " 1   gender            7043 non-null   object \n",
      " 2   SeniorCitizen     7043 non-null   int64  \n",
      " 3   Partner           7043 non-null   object \n",
      " 4   Dependents        7043 non-null   object \n",
      " 5   tenure            7043 non-null   int64  \n",
      " 6   PhoneService      7043 non-null   object \n",
      " 7   MultipleLines     7043 non-null   object \n",
      " 8   InternetService   7043 non-null   object \n",
      " 9   OnlineSecurity    7043 non-null   object \n",
      " 10  OnlineBackup      7043 non-null   object \n",
      " 11  DeviceProtection  7043 non-null   object \n",
      " 12  TechSupport       7043 non-null   object \n",
      " 13  StreamingTV       7043 non-null   object \n",
      " 14  StreamingMovies   7043 non-null   object \n",
      " 15  Contract          7043 non-null   object \n",
      " 16  PaperlessBilling  7043 non-null   object \n",
      " 17  PaymentMethod     7043 non-null   object \n",
      " 18  MonthlyCharges    7043 non-null   float64\n",
      " 19  TotalCharges      7043 non-null   object \n",
      " 20  Churn             7043 non-null   object \n",
      "dtypes: float64(1), int64(2), object(18)\n",
      "memory usage: 1.1+ MB\n"
     ]
    }
   ],
   "source": [
    "data.info()"
   ]
  },
  {
   "cell_type": "code",
   "execution_count": 31,
   "id": "2678070e-bba2-4c1f-9ee4-c680b6dfe20f",
   "metadata": {},
   "outputs": [],
   "source": [
    "data_lab = data.copy()"
   ]
  },
  {
   "cell_type": "code",
   "execution_count": 35,
   "id": "892ea0c5-7f2e-4c04-912b-012fc261b87a",
   "metadata": {},
   "outputs": [
    {
     "data": {
      "text/plain": [
       "(7043, 21)"
      ]
     },
     "execution_count": 35,
     "metadata": {},
     "output_type": "execute_result"
    }
   ],
   "source": [
    "data.shape"
   ]
  },
  {
   "cell_type": "code",
   "execution_count": 37,
   "id": "2d37330e-97d0-4960-b233-66e88b8af6f0",
   "metadata": {},
   "outputs": [],
   "source": [
    "data_lab = data_lab.drop_duplicates(keep='last',subset='customerID').reset_index(drop=True)"
   ]
  },
  {
   "cell_type": "code",
   "execution_count": 39,
   "id": "78cd0932-72b3-42bd-b16d-1c7196694772",
   "metadata": {},
   "outputs": [],
   "source": [
    "le = LabelEncoder()\n",
    "\n",
    "cat_df =data_lab.select_dtypes(include=['object','category'])\n",
    "\n",
    "for col in data_lab[cat_df.columns].columns:\n",
    "    data_lab[col] = le.fit_transform(data_lab[col])"
   ]
  },
  {
   "cell_type": "code",
   "execution_count": null,
   "id": "ab007df2-1333-462d-b930-0c35514ea9a7",
   "metadata": {},
   "outputs": [],
   "source": []
  },
  {
   "cell_type": "code",
   "execution_count": null,
   "id": "0b4840b4-2e61-4916-a05d-3155e937930f",
   "metadata": {},
   "outputs": [],
   "source": []
  },
  {
   "cell_type": "code",
   "execution_count": 43,
   "id": "eecf9ea2-14c5-44f5-8ad6-e76a05886997",
   "metadata": {},
   "outputs": [],
   "source": [
    "X = data_lab.iloc[:,:-1]\n",
    "y = data_lab.iloc[:,-1]"
   ]
  },
  {
   "cell_type": "code",
   "execution_count": 45,
   "id": "90d593a7-f495-4c76-b398-3ea82543a6f7",
   "metadata": {},
   "outputs": [],
   "source": [
    "X_train, X_test, y_train, y_test = train_test_split(X, y, test_size=0.33, random_state=42)"
   ]
  },
  {
   "cell_type": "code",
   "execution_count": 47,
   "id": "dfa1bed9-4a84-4006-bf0c-629b0a1feb36",
   "metadata": {},
   "outputs": [
    {
     "name": "stdout",
     "output_type": "stream",
     "text": [
      "Optimization terminated successfully.\n",
      "         Current function value: 0.424398\n",
      "         Iterations 7\n"
     ]
    }
   ],
   "source": [
    "# building the model and fitting the data\n",
    "log_reg = sm.Logit(y_train, X_train).fit()"
   ]
  },
  {
   "cell_type": "code",
   "execution_count": 49,
   "id": "e6a03a9e-51dc-4287-b95a-880706933be7",
   "metadata": {},
   "outputs": [],
   "source": [
    "# printing the summary table\n",
    "results = log_reg.summary()"
   ]
  },
  {
   "cell_type": "code",
   "execution_count": 85,
   "id": "dd0adced-0f08-43b0-b183-4d4a63afeb55",
   "metadata": {},
   "outputs": [],
   "source": [
    "LRresult = pd.DataFrame(results.tables[1])\n",
    "LRresult.columns = LRresult.iloc[0]\n",
    "LRresult = LRresult[1:]"
   ]
  },
  {
   "cell_type": "code",
   "execution_count": 86,
   "id": "1951855b-8e7a-4d15-99ae-3b2f55e9758f",
   "metadata": {},
   "outputs": [
    {
     "data": {
      "text/plain": [
       "Index([, coef, std err, z, P>|z|, [0.025, 0.975]], dtype='object', name=0)"
      ]
     },
     "execution_count": 86,
     "metadata": {},
     "output_type": "execute_result"
    }
   ],
   "source": [
    "LRresult.columns"
   ]
  },
  {
   "cell_type": "code",
   "execution_count": 87,
   "id": "c8bb2326-db0d-463d-8e48-0ded42b2d3cb",
   "metadata": {},
   "outputs": [
    {
     "data": {
      "text/html": [
       "<div>\n",
       "<style scoped>\n",
       "    .dataframe tbody tr th:only-of-type {\n",
       "        vertical-align: middle;\n",
       "    }\n",
       "\n",
       "    .dataframe tbody tr th {\n",
       "        vertical-align: top;\n",
       "    }\n",
       "\n",
       "    .dataframe thead th {\n",
       "        text-align: right;\n",
       "    }\n",
       "</style>\n",
       "<table border=\"1\" class=\"dataframe\">\n",
       "  <thead>\n",
       "    <tr style=\"text-align: right;\">\n",
       "      <th></th>\n",
       "      <th></th>\n",
       "      <th>coef</th>\n",
       "      <th>std err</th>\n",
       "      <th>z</th>\n",
       "      <th>P&gt;|z|</th>\n",
       "      <th>[0.025</th>\n",
       "      <th>0.975]</th>\n",
       "    </tr>\n",
       "  </thead>\n",
       "  <tbody>\n",
       "    <tr>\n",
       "      <th>1</th>\n",
       "      <td>customerID</td>\n",
       "      <td>-5.028e-05</td>\n",
       "      <td>1.81e-05</td>\n",
       "      <td>-2.778</td>\n",
       "      <td>0.005</td>\n",
       "      <td>-8.58e-05</td>\n",
       "      <td>-1.48e-05</td>\n",
       "    </tr>\n",
       "    <tr>\n",
       "      <th>2</th>\n",
       "      <td>gender</td>\n",
       "      <td>-0.1707</td>\n",
       "      <td>0.077</td>\n",
       "      <td>-2.231</td>\n",
       "      <td>0.026</td>\n",
       "      <td>-0.321</td>\n",
       "      <td>-0.021</td>\n",
       "    </tr>\n",
       "    <tr>\n",
       "      <th>3</th>\n",
       "      <td>SeniorCitizen</td>\n",
       "      <td>0.1727</td>\n",
       "      <td>0.103</td>\n",
       "      <td>1.673</td>\n",
       "      <td>0.094</td>\n",
       "      <td>-0.030</td>\n",
       "      <td>0.375</td>\n",
       "    </tr>\n",
       "    <tr>\n",
       "      <th>4</th>\n",
       "      <td>Partner</td>\n",
       "      <td>-0.0173</td>\n",
       "      <td>0.094</td>\n",
       "      <td>-0.185</td>\n",
       "      <td>0.853</td>\n",
       "      <td>-0.201</td>\n",
       "      <td>0.166</td>\n",
       "    </tr>\n",
       "    <tr>\n",
       "      <th>5</th>\n",
       "      <td>Dependents</td>\n",
       "      <td>-0.2105</td>\n",
       "      <td>0.107</td>\n",
       "      <td>-1.965</td>\n",
       "      <td>0.049</td>\n",
       "      <td>-0.420</td>\n",
       "      <td>-0.000</td>\n",
       "    </tr>\n",
       "    <tr>\n",
       "      <th>6</th>\n",
       "      <td>tenure</td>\n",
       "      <td>-0.0325</td>\n",
       "      <td>0.003</td>\n",
       "      <td>-11.549</td>\n",
       "      <td>0.000</td>\n",
       "      <td>-0.038</td>\n",
       "      <td>-0.027</td>\n",
       "    </tr>\n",
       "    <tr>\n",
       "      <th>7</th>\n",
       "      <td>PhoneService</td>\n",
       "      <td>-1.2671</td>\n",
       "      <td>0.161</td>\n",
       "      <td>-7.882</td>\n",
       "      <td>0.000</td>\n",
       "      <td>-1.582</td>\n",
       "      <td>-0.952</td>\n",
       "    </tr>\n",
       "    <tr>\n",
       "      <th>8</th>\n",
       "      <td>MultipleLines</td>\n",
       "      <td>0.0722</td>\n",
       "      <td>0.049</td>\n",
       "      <td>1.465</td>\n",
       "      <td>0.143</td>\n",
       "      <td>-0.024</td>\n",
       "      <td>0.169</td>\n",
       "    </tr>\n",
       "    <tr>\n",
       "      <th>9</th>\n",
       "      <td>InternetService</td>\n",
       "      <td>0.2397</td>\n",
       "      <td>0.077</td>\n",
       "      <td>3.124</td>\n",
       "      <td>0.002</td>\n",
       "      <td>0.089</td>\n",
       "      <td>0.390</td>\n",
       "    </tr>\n",
       "    <tr>\n",
       "      <th>10</th>\n",
       "      <td>OnlineSecurity</td>\n",
       "      <td>-0.3006</td>\n",
       "      <td>0.050</td>\n",
       "      <td>-6.058</td>\n",
       "      <td>0.000</td>\n",
       "      <td>-0.398</td>\n",
       "      <td>-0.203</td>\n",
       "    </tr>\n",
       "    <tr>\n",
       "      <th>11</th>\n",
       "      <td>OnlineBackup</td>\n",
       "      <td>-0.1545</td>\n",
       "      <td>0.046</td>\n",
       "      <td>-3.385</td>\n",
       "      <td>0.001</td>\n",
       "      <td>-0.244</td>\n",
       "      <td>-0.065</td>\n",
       "    </tr>\n",
       "    <tr>\n",
       "      <th>12</th>\n",
       "      <td>DeviceProtection</td>\n",
       "      <td>-0.0620</td>\n",
       "      <td>0.048</td>\n",
       "      <td>-1.299</td>\n",
       "      <td>0.194</td>\n",
       "      <td>-0.156</td>\n",
       "      <td>0.032</td>\n",
       "    </tr>\n",
       "    <tr>\n",
       "      <th>13</th>\n",
       "      <td>TechSupport</td>\n",
       "      <td>-0.2217</td>\n",
       "      <td>0.051</td>\n",
       "      <td>-4.362</td>\n",
       "      <td>0.000</td>\n",
       "      <td>-0.321</td>\n",
       "      <td>-0.122</td>\n",
       "    </tr>\n",
       "    <tr>\n",
       "      <th>14</th>\n",
       "      <td>StreamingTV</td>\n",
       "      <td>-0.0425</td>\n",
       "      <td>0.050</td>\n",
       "      <td>-0.852</td>\n",
       "      <td>0.394</td>\n",
       "      <td>-0.140</td>\n",
       "      <td>0.055</td>\n",
       "    </tr>\n",
       "    <tr>\n",
       "      <th>15</th>\n",
       "      <td>StreamingMovies</td>\n",
       "      <td>0.0460</td>\n",
       "      <td>0.050</td>\n",
       "      <td>0.916</td>\n",
       "      <td>0.360</td>\n",
       "      <td>-0.052</td>\n",
       "      <td>0.145</td>\n",
       "    </tr>\n",
       "    <tr>\n",
       "      <th>16</th>\n",
       "      <td>Contract</td>\n",
       "      <td>-0.7786</td>\n",
       "      <td>0.092</td>\n",
       "      <td>-8.458</td>\n",
       "      <td>0.000</td>\n",
       "      <td>-0.959</td>\n",
       "      <td>-0.598</td>\n",
       "    </tr>\n",
       "    <tr>\n",
       "      <th>17</th>\n",
       "      <td>PaperlessBilling</td>\n",
       "      <td>0.2340</td>\n",
       "      <td>0.087</td>\n",
       "      <td>2.679</td>\n",
       "      <td>0.007</td>\n",
       "      <td>0.063</td>\n",
       "      <td>0.405</td>\n",
       "    </tr>\n",
       "    <tr>\n",
       "      <th>18</th>\n",
       "      <td>PaymentMethod</td>\n",
       "      <td>-0.0430</td>\n",
       "      <td>0.037</td>\n",
       "      <td>-1.153</td>\n",
       "      <td>0.249</td>\n",
       "      <td>-0.116</td>\n",
       "      <td>0.030</td>\n",
       "    </tr>\n",
       "    <tr>\n",
       "      <th>19</th>\n",
       "      <td>MonthlyCharges</td>\n",
       "      <td>0.0246</td>\n",
       "      <td>0.002</td>\n",
       "      <td>10.977</td>\n",
       "      <td>0.000</td>\n",
       "      <td>0.020</td>\n",
       "      <td>0.029</td>\n",
       "    </tr>\n",
       "    <tr>\n",
       "      <th>20</th>\n",
       "      <td>TotalCharges</td>\n",
       "      <td>3.764e-05</td>\n",
       "      <td>2.07e-05</td>\n",
       "      <td>1.819</td>\n",
       "      <td>0.069</td>\n",
       "      <td>-2.91e-06</td>\n",
       "      <td>7.82e-05</td>\n",
       "    </tr>\n",
       "  </tbody>\n",
       "</table>\n",
       "</div>"
      ],
      "text/plain": [
       "0                           coef    std err          z   P>|z|     [0.025  \\\n",
       "1         customerID  -5.028e-05   1.81e-05     -2.778   0.005  -8.58e-05   \n",
       "2             gender     -0.1707      0.077     -2.231   0.026     -0.321   \n",
       "3      SeniorCitizen      0.1727      0.103      1.673   0.094     -0.030   \n",
       "4            Partner     -0.0173      0.094     -0.185   0.853     -0.201   \n",
       "5         Dependents     -0.2105      0.107     -1.965   0.049     -0.420   \n",
       "6             tenure     -0.0325      0.003    -11.549   0.000     -0.038   \n",
       "7       PhoneService     -1.2671      0.161     -7.882   0.000     -1.582   \n",
       "8      MultipleLines      0.0722      0.049      1.465   0.143     -0.024   \n",
       "9    InternetService      0.2397      0.077      3.124   0.002      0.089   \n",
       "10    OnlineSecurity     -0.3006      0.050     -6.058   0.000     -0.398   \n",
       "11      OnlineBackup     -0.1545      0.046     -3.385   0.001     -0.244   \n",
       "12  DeviceProtection     -0.0620      0.048     -1.299   0.194     -0.156   \n",
       "13       TechSupport     -0.2217      0.051     -4.362   0.000     -0.321   \n",
       "14       StreamingTV     -0.0425      0.050     -0.852   0.394     -0.140   \n",
       "15   StreamingMovies      0.0460      0.050      0.916   0.360     -0.052   \n",
       "16          Contract     -0.7786      0.092     -8.458   0.000     -0.959   \n",
       "17  PaperlessBilling      0.2340      0.087      2.679   0.007      0.063   \n",
       "18     PaymentMethod     -0.0430      0.037     -1.153   0.249     -0.116   \n",
       "19    MonthlyCharges      0.0246      0.002     10.977   0.000      0.020   \n",
       "20      TotalCharges   3.764e-05   2.07e-05      1.819   0.069  -2.91e-06   \n",
       "\n",
       "0      0.975]  \n",
       "1   -1.48e-05  \n",
       "2      -0.021  \n",
       "3       0.375  \n",
       "4       0.166  \n",
       "5      -0.000  \n",
       "6      -0.027  \n",
       "7      -0.952  \n",
       "8       0.169  \n",
       "9       0.390  \n",
       "10     -0.203  \n",
       "11     -0.065  \n",
       "12      0.032  \n",
       "13     -0.122  \n",
       "14      0.055  \n",
       "15      0.145  \n",
       "16     -0.598  \n",
       "17      0.405  \n",
       "18      0.030  \n",
       "19      0.029  \n",
       "20   7.82e-05  "
      ]
     },
     "execution_count": 87,
     "metadata": {},
     "output_type": "execute_result"
    }
   ],
   "source": [
    "LRresult"
   ]
  },
  {
   "cell_type": "code",
   "execution_count": 90,
   "id": "f5986146-a549-4ba3-a047-71e8c0c947f6",
   "metadata": {},
   "outputs": [],
   "source": [
    "#considering columns who has pvalue less than equal to 0.05 \n",
    "columns_set1 = ['gender','Dependents','tenure','PhoneService','InternetService','OnlineSecurity','OnlineBackup','TechSupport'\n",
    "               ,'Contract','PaperlessBilling','MonthlyCharges','TotalCharges']"
   ]
  },
  {
   "cell_type": "code",
   "execution_count": 92,
   "id": "5cb67db6-2d58-4b89-b095-875d6df35f5d",
   "metadata": {},
   "outputs": [],
   "source": [
    "X_feat = X[columns_set1]\n",
    "y = data_lab.iloc[:,-1]"
   ]
  },
  {
   "cell_type": "code",
   "execution_count": 93,
   "id": "b6273db2-4343-429e-bd73-1804dee95278",
   "metadata": {},
   "outputs": [],
   "source": [
    "X_train, X_test, y_train, y_test = train_test_split(X_feat, y, test_size=0.33, random_state=42)"
   ]
  },
  {
   "cell_type": "code",
   "execution_count": 95,
   "id": "dd65e5b4-def0-4c55-9a50-655cd295f837",
   "metadata": {},
   "outputs": [
    {
     "name": "stdout",
     "output_type": "stream",
     "text": [
      "Optimization terminated successfully.\n",
      "         Current function value: 0.426320\n",
      "         Iterations 7\n"
     ]
    }
   ],
   "source": [
    "log_reg = sm.Logit(y_train, X_train).fit()"
   ]
  },
  {
   "cell_type": "code",
   "execution_count": 98,
   "id": "15a2b797-1f89-442c-897b-ff342c1bd06e",
   "metadata": {},
   "outputs": [],
   "source": [
    "yhat = log_reg.predict(X_test)\n",
    "prediction = list(map(round, yhat))\n",
    "  \n",
    "# comparing original and predicted values of y\n",
    "# print('Actual values', list(y_test.values))\n",
    "# print('Predictions :', prediction)"
   ]
  },
  {
   "cell_type": "code",
   "execution_count": 102,
   "id": "53fe3705-79b8-4975-b82d-ec476b705a34",
   "metadata": {},
   "outputs": [
    {
     "name": "stdout",
     "output_type": "stream",
     "text": [
      "Confusion Matrix : \n",
      " [[1497  200]\n",
      " [ 261  367]]\n",
      "Test accuracy =  0.7332699330778556\n"
     ]
    }
   ],
   "source": [
    "cm = confusion_matrix(y_test, prediction) \n",
    "print (\"Confusion Matrix : \\n\", cm) \n",
    "  \n",
    "# accuracy score of the model\n",
    "print('Test accuracy = ', roc_auc_score(y_test, prediction))"
   ]
  },
  {
   "cell_type": "code",
   "execution_count": 103,
   "id": "564b2043-6082-4399-b877-9753f542c49e",
   "metadata": {},
   "outputs": [
    {
     "name": "stdout",
     "output_type": "stream",
     "text": [
      "              precision    recall  f1-score   support\n",
      "\n",
      "           0       0.85      0.88      0.87      1697\n",
      "           1       0.65      0.58      0.61       628\n",
      "\n",
      "    accuracy                           0.80      2325\n",
      "   macro avg       0.75      0.73      0.74      2325\n",
      "weighted avg       0.80      0.80      0.80      2325\n",
      "\n"
     ]
    }
   ],
   "source": [
    "print(classification_report(y_test, prediction))"
   ]
  },
  {
   "cell_type": "code",
   "execution_count": null,
   "id": "0dcbea98-86b1-4e8f-8393-b63d4b159d0e",
   "metadata": {},
   "outputs": [],
   "source": [
    "#using RFE"
   ]
  },
  {
   "cell_type": "code",
   "execution_count": 114,
   "id": "7929a7db-0aca-484d-ba6c-c07d555caddb",
   "metadata": {},
   "outputs": [
    {
     "data": {
      "text/plain": [
       "Index(['customerID', 'gender', 'SeniorCitizen', 'Partner', 'Dependents',\n",
       "       'tenure', 'PhoneService', 'MultipleLines', 'InternetService',\n",
       "       'OnlineSecurity', 'OnlineBackup', 'DeviceProtection', 'TechSupport',\n",
       "       'StreamingTV', 'StreamingMovies', 'Contract', 'PaperlessBilling',\n",
       "       'PaymentMethod', 'MonthlyCharges', 'TotalCharges', 'Churn'],\n",
       "      dtype='object')"
      ]
     },
     "execution_count": 114,
     "metadata": {},
     "output_type": "execute_result"
    }
   ],
   "source": [
    "data_lab.columns"
   ]
  },
  {
   "cell_type": "code",
   "execution_count": 184,
   "id": "2cf8fe3b-974d-4c9c-b4ad-b929fcd92c33",
   "metadata": {},
   "outputs": [],
   "source": [
    "X = data_lab.iloc[:,:-1]\n",
    "y = data_lab.iloc[:,-1]"
   ]
  },
  {
   "cell_type": "code",
   "execution_count": 185,
   "id": "ae5b6daa-27d9-477e-a465-9279e6a8850c",
   "metadata": {},
   "outputs": [],
   "source": [
    "X_train, X_test, y_train, y_test = train_test_split(X.drop('customerID',1), y, test_size=0.33, random_state=42)"
   ]
  },
  {
   "cell_type": "code",
   "execution_count": 186,
   "id": "d6d1e17e-e82c-4197-8acf-4f1e68b49d6f",
   "metadata": {},
   "outputs": [
    {
     "data": {
      "text/plain": [
       "12"
      ]
     },
     "execution_count": 186,
     "metadata": {},
     "output_type": "execute_result"
    }
   ],
   "source": [
    "len(columns_set1)"
   ]
  },
  {
   "cell_type": "code",
   "execution_count": 187,
   "id": "ea452fc6-0d68-43e0-bfd8-4dc63702cf2d",
   "metadata": {},
   "outputs": [],
   "source": [
    "classifier= RandomForestClassifier(n_estimators=100, max_depth=10)"
   ]
  },
  {
   "cell_type": "code",
   "execution_count": 188,
   "id": "559778d3-5813-4828-8789-483db2ec5c75",
   "metadata": {},
   "outputs": [
    {
     "data": {
      "text/html": [
       "<style>#sk-container-id-7 {color: black;background-color: white;}#sk-container-id-7 pre{padding: 0;}#sk-container-id-7 div.sk-toggleable {background-color: white;}#sk-container-id-7 label.sk-toggleable__label {cursor: pointer;display: block;width: 100%;margin-bottom: 0;padding: 0.3em;box-sizing: border-box;text-align: center;}#sk-container-id-7 label.sk-toggleable__label-arrow:before {content: \"▸\";float: left;margin-right: 0.25em;color: #696969;}#sk-container-id-7 label.sk-toggleable__label-arrow:hover:before {color: black;}#sk-container-id-7 div.sk-estimator:hover label.sk-toggleable__label-arrow:before {color: black;}#sk-container-id-7 div.sk-toggleable__content {max-height: 0;max-width: 0;overflow: hidden;text-align: left;background-color: #f0f8ff;}#sk-container-id-7 div.sk-toggleable__content pre {margin: 0.2em;color: black;border-radius: 0.25em;background-color: #f0f8ff;}#sk-container-id-7 input.sk-toggleable__control:checked~div.sk-toggleable__content {max-height: 200px;max-width: 100%;overflow: auto;}#sk-container-id-7 input.sk-toggleable__control:checked~label.sk-toggleable__label-arrow:before {content: \"▾\";}#sk-container-id-7 div.sk-estimator input.sk-toggleable__control:checked~label.sk-toggleable__label {background-color: #d4ebff;}#sk-container-id-7 div.sk-label input.sk-toggleable__control:checked~label.sk-toggleable__label {background-color: #d4ebff;}#sk-container-id-7 input.sk-hidden--visually {border: 0;clip: rect(1px 1px 1px 1px);clip: rect(1px, 1px, 1px, 1px);height: 1px;margin: -1px;overflow: hidden;padding: 0;position: absolute;width: 1px;}#sk-container-id-7 div.sk-estimator {font-family: monospace;background-color: #f0f8ff;border: 1px dotted black;border-radius: 0.25em;box-sizing: border-box;margin-bottom: 0.5em;}#sk-container-id-7 div.sk-estimator:hover {background-color: #d4ebff;}#sk-container-id-7 div.sk-parallel-item::after {content: \"\";width: 100%;border-bottom: 1px solid gray;flex-grow: 1;}#sk-container-id-7 div.sk-label:hover label.sk-toggleable__label {background-color: #d4ebff;}#sk-container-id-7 div.sk-serial::before {content: \"\";position: absolute;border-left: 1px solid gray;box-sizing: border-box;top: 0;bottom: 0;left: 50%;z-index: 0;}#sk-container-id-7 div.sk-serial {display: flex;flex-direction: column;align-items: center;background-color: white;padding-right: 0.2em;padding-left: 0.2em;position: relative;}#sk-container-id-7 div.sk-item {position: relative;z-index: 1;}#sk-container-id-7 div.sk-parallel {display: flex;align-items: stretch;justify-content: center;background-color: white;position: relative;}#sk-container-id-7 div.sk-item::before, #sk-container-id-7 div.sk-parallel-item::before {content: \"\";position: absolute;border-left: 1px solid gray;box-sizing: border-box;top: 0;bottom: 0;left: 50%;z-index: -1;}#sk-container-id-7 div.sk-parallel-item {display: flex;flex-direction: column;z-index: 1;position: relative;background-color: white;}#sk-container-id-7 div.sk-parallel-item:first-child::after {align-self: flex-end;width: 50%;}#sk-container-id-7 div.sk-parallel-item:last-child::after {align-self: flex-start;width: 50%;}#sk-container-id-7 div.sk-parallel-item:only-child::after {width: 0;}#sk-container-id-7 div.sk-dashed-wrapped {border: 1px dashed gray;margin: 0 0.4em 0.5em 0.4em;box-sizing: border-box;padding-bottom: 0.4em;background-color: white;}#sk-container-id-7 div.sk-label label {font-family: monospace;font-weight: bold;display: inline-block;line-height: 1.2em;}#sk-container-id-7 div.sk-label-container {text-align: center;}#sk-container-id-7 div.sk-container {/* jupyter's `normalize.less` sets `[hidden] { display: none; }` but bootstrap.min.css set `[hidden] { display: none !important; }` so we also need the `!important` here to be able to override the default hidden behavior on the sphinx rendered scikit-learn.org. See: https://github.com/scikit-learn/scikit-learn/issues/21755 */display: inline-block !important;position: relative;}#sk-container-id-7 div.sk-text-repr-fallback {display: none;}</style><div id=\"sk-container-id-7\" class=\"sk-top-container\"><div class=\"sk-text-repr-fallback\"><pre>RFE(estimator=RandomForestClassifier(max_depth=10), n_features_to_select=9)</pre><b>In a Jupyter environment, please rerun this cell to show the HTML representation or trust the notebook. <br />On GitHub, the HTML representation is unable to render, please try loading this page with nbviewer.org.</b></div><div class=\"sk-container\" hidden><div class=\"sk-item sk-dashed-wrapped\"><div class=\"sk-label-container\"><div class=\"sk-label sk-toggleable\"><input class=\"sk-toggleable__control sk-hidden--visually\" id=\"sk-estimator-id-13\" type=\"checkbox\" ><label for=\"sk-estimator-id-13\" class=\"sk-toggleable__label sk-toggleable__label-arrow\">RFE</label><div class=\"sk-toggleable__content\"><pre>RFE(estimator=RandomForestClassifier(max_depth=10), n_features_to_select=9)</pre></div></div></div><div class=\"sk-parallel\"><div class=\"sk-parallel-item\"><div class=\"sk-item\"><div class=\"sk-label-container\"><div class=\"sk-label sk-toggleable\"><input class=\"sk-toggleable__control sk-hidden--visually\" id=\"sk-estimator-id-14\" type=\"checkbox\" ><label for=\"sk-estimator-id-14\" class=\"sk-toggleable__label sk-toggleable__label-arrow\">estimator: RandomForestClassifier</label><div class=\"sk-toggleable__content\"><pre>RandomForestClassifier(max_depth=10)</pre></div></div></div><div class=\"sk-serial\"><div class=\"sk-item\"><div class=\"sk-estimator sk-toggleable\"><input class=\"sk-toggleable__control sk-hidden--visually\" id=\"sk-estimator-id-15\" type=\"checkbox\" ><label for=\"sk-estimator-id-15\" class=\"sk-toggleable__label sk-toggleable__label-arrow\">RandomForestClassifier</label><div class=\"sk-toggleable__content\"><pre>RandomForestClassifier(max_depth=10)</pre></div></div></div></div></div></div></div></div></div></div>"
      ],
      "text/plain": [
       "RFE(estimator=RandomForestClassifier(max_depth=10), n_features_to_select=9)"
      ]
     },
     "execution_count": 188,
     "metadata": {},
     "output_type": "execute_result"
    }
   ],
   "source": [
    "n_features_to_select = 9\n",
    "rfe = RFE(classifier, n_features_to_select = n_features_to_select)\n",
    "rfe.fit(X.drop('customerID',1), y)"
   ]
  },
  {
   "cell_type": "code",
   "execution_count": 189,
   "id": "2fd869ec-26e5-4cc5-bc17-68aaa9a8cfa4",
   "metadata": {},
   "outputs": [
    {
     "name": "stdout",
     "output_type": "stream",
     "text": [
      "False __Rank 5 __ gender\n",
      "False __Rank 7 __ SeniorCitizen\n",
      "False __Rank 10 __ Partner\n",
      "False __Rank 6 __ Dependents\n",
      "False __Rank 11 __ PhoneService\n",
      "False __Rank 4 __ MultipleLines\n",
      "False __Rank 3 __ DeviceProtection\n",
      "False __Rank 8 __ StreamingTV\n",
      "False __Rank 9 __ StreamingMovies\n",
      "False __Rank 2 __ PaperlessBilling\n",
      "True __Rank 1 __ tenure\n",
      "True __Rank 1 __ InternetService\n",
      "True __Rank 1 __ OnlineSecurity\n",
      "True __Rank 1 __ OnlineBackup\n",
      "True __Rank 1 __ TechSupport\n",
      "True __Rank 1 __ Contract\n",
      "True __Rank 1 __ PaymentMethod\n",
      "True __Rank 1 __ MonthlyCharges\n",
      "True __Rank 1 __ TotalCharges\n"
     ]
    }
   ],
   "source": [
    "from operator import itemgetter\n",
    "features = X.drop('customerID',1).columns.to_list()\n",
    "for x, w,z in (sorted(zip(rfe.support_,rfe.ranking_ , features), key=itemgetter(0))):\n",
    "    print(x,'__Rank',w,  '__' ,z)"
   ]
  },
  {
   "cell_type": "code",
   "execution_count": 190,
   "id": "f7298055-d89a-47d7-bde9-6329e9bf76cb",
   "metadata": {},
   "outputs": [],
   "source": [
    "Feature_importance_DF = pd.DataFrame(zip(rfe.support_,rfe.ranking_ ,features),columns=['Support','Rank','Columns'])"
   ]
  },
  {
   "cell_type": "code",
   "execution_count": 191,
   "id": "286b0309-c85f-44cf-a4d0-247bdc996d41",
   "metadata": {},
   "outputs": [],
   "source": [
    "Important_Features = Feature_importance_DF[Feature_importance_DF['Rank']==1]['Columns'].to_list()"
   ]
  },
  {
   "cell_type": "code",
   "execution_count": 192,
   "id": "313ecd9e-9140-4e27-9ee1-b741b265830c",
   "metadata": {},
   "outputs": [
    {
     "data": {
      "text/plain": [
       "<AxesSubplot:>"
      ]
     },
     "execution_count": 192,
     "metadata": {},
     "output_type": "execute_result"
    },
    {
     "data": {
      "image/png": "[encoded data removed]",
      "text/plain": [
       "<Figure size 1200x600 with 1 Axes>"
      ]
     },
     "metadata": {},
     "output_type": "display_data"
    }
   ],
   "source": [
    "from sklearn.tree import DecisionTreeClassifier\n",
    "\n",
    "clf = DecisionTreeClassifier()\n",
    "clf.fit(X.drop('customerID',1), y)\n",
    "\n",
    "pd.Series(clf.feature_importances_, index=X.drop('customerID',1).columns[:]).plot.bar(color='steelblue', figsize=(12, 6))"
   ]
  },
  {
   "cell_type": "code",
   "execution_count": 193,
   "id": "a45775ea-9e14-4a7e-91e1-a2c76a0ba2fd",
   "metadata": {},
   "outputs": [],
   "source": [
    "df_featured = data_lab[Important_Features]"
   ]
  },
  {
   "cell_type": "code",
   "execution_count": 194,
   "id": "6cf43986-1da7-421a-98ad-69118a2ffe59",
   "metadata": {},
   "outputs": [],
   "source": [
    "X = df_featured\n",
    "y = data_lab['Churn']"
   ]
  },
  {
   "cell_type": "code",
   "execution_count": 195,
   "id": "19b29afa-f91e-4d84-813a-e5dfb5c4910d",
   "metadata": {},
   "outputs": [],
   "source": [
    "X_train, X_test, y_train, y_test = train_test_split(X, y, test_size=0.33, random_state=42)"
   ]
  },
  {
   "cell_type": "code",
   "execution_count": 196,
   "id": "22fc6c58-46da-4650-9da6-b4cb3a576ac2",
   "metadata": {},
   "outputs": [],
   "source": [
    "#Modelling"
   ]
  },
  {
   "cell_type": "code",
   "execution_count": 197,
   "id": "86b9fa60-2da1-47a2-85a4-b6a4b7caab7a",
   "metadata": {},
   "outputs": [],
   "source": [
    "classifiers = [\n",
    "    LogisticRegression(),\n",
    "    KNeighborsClassifier(3),\n",
    "    SVC(kernel=\"rbf\", C=0.025, probability=True),\n",
    "    DecisionTreeClassifier(),\n",
    "    RandomForestClassifier(),\n",
    "    XGBClassifier(),\n",
    "    AdaBoostClassifier(),\n",
    "    GradientBoostingClassifier(),\n",
    "    GaussianNB()]"
   ]
  },
  {
   "cell_type": "code",
   "execution_count": 198,
   "id": "7bcae673-bae9-4b86-b0c3-00488f26b67a",
   "metadata": {},
   "outputs": [],
   "source": [
    "#Logging for visual comparison\n",
    "log_cols=[\"Classifier\", \"Accuracy\", \"Log Loss\"]\n",
    "log = pd.DataFrame(columns=log_cols)"
   ]
  },
  {
   "cell_type": "code",
   "execution_count": 199,
   "id": "999affe4-f9f9-45bd-b9bf-227d0dc332c2",
   "metadata": {},
   "outputs": [
    {
     "name": "stdout",
     "output_type": "stream",
     "text": [
      "==============================\n",
      "LogisticRegression\n",
      "****Results****\n",
      "AUC ROC Score: 79.6129%\n",
      "Log Loss: 0.42018027680440534\n",
      "==============================\n",
      "KNeighborsClassifier\n",
      "****Results****\n",
      "AUC ROC Score: 73.7634%\n",
      "Log Loss: 3.3748361672531524\n",
      "==============================\n",
      "SVC\n",
      "****Results****\n",
      "AUC ROC Score: 72.9892%\n",
      "Log Loss: 0.5214808548047971\n",
      "==============================\n",
      "DecisionTreeClassifier\n",
      "****Results****\n",
      "AUC ROC Score: 74.0645%\n",
      "Log Loss: 8.802259230982424\n",
      "==============================\n",
      "RandomForestClassifier\n",
      "****Results****\n",
      "AUC ROC Score: 78.8387%\n",
      "Log Loss: 0.5525183411452316\n",
      "==============================\n",
      "XGBClassifier\n",
      "****Results****\n",
      "AUC ROC Score: 79.5269%\n",
      "Log Loss: 0.4317217130113959\n",
      "==============================\n",
      "AdaBoostClassifier\n",
      "****Results****\n",
      "AUC ROC Score: 80.0000%\n",
      "Log Loss: 0.6766330691278125\n",
      "==============================\n",
      "GradientBoostingClassifier\n",
      "****Results****\n",
      "AUC ROC Score: 80.2151%\n",
      "Log Loss: 0.4060125102751867\n",
      "==============================\n",
      "GaussianNB\n",
      "****Results****\n",
      "AUC ROC Score: 75.7419%\n",
      "Log Loss: 0.6358716309040007\n",
      "==============================\n"
     ]
    }
   ],
   "source": [
    "for clf in classifiers:\n",
    "    clf.fit(X_train, y_train)\n",
    "    name = clf.__class__.__name__\n",
    "    \n",
    "    print(\"=\"*30)\n",
    "    print(name)\n",
    "    \n",
    "    print('****Results****')\n",
    "    train_predictions = clf.predict(X_test)\n",
    "    acc = accuracy_score(y_test, train_predictions)\n",
    "    print(\"AUC ROC Score: {:.4%}\".format(acc))\n",
    "    \n",
    "    train_predictions = clf.predict_proba(X_test)\n",
    "    ll = log_loss(y_test, train_predictions)\n",
    "    print(\"Log Loss: {}\".format(ll))\n",
    "    \n",
    "    log_entry = pd.DataFrame([[name, acc*100, ll]], columns=log_cols)\n",
    "    log = log.append(log_entry)\n",
    "    \n",
    "print(\"=\"*30)\n"
   ]
  },
  {
   "cell_type": "code",
   "execution_count": 200,
   "id": "a74c9fc5-db7c-4f0d-b34d-db15ecef5d1b",
   "metadata": {},
   "outputs": [],
   "source": [
    "log1 = log.sort_values(by='Accuracy',ascending=False)\n",
    "log2 = log.sort_values(by='Log Loss')"
   ]
  },
  {
   "cell_type": "code",
   "execution_count": 201,
   "id": "5ed355f3-920b-4c05-b757-b756075eb898",
   "metadata": {},
   "outputs": [
    {
     "data": {
      "image/png": "[encoded data removed]",
      "text/plain": [
       "<Figure size 1200x400 with 1 Axes>"
      ]
     },
     "metadata": {},
     "output_type": "display_data"
    },
    {
     "data": {
      "image/png": "[encoded data removed]",
      "text/plain": [
       "<Figure size 1200x400 with 1 Axes>"
      ]
     },
     "metadata": {},
     "output_type": "display_data"
    }
   ],
   "source": [
    "plt.figure(figsize=(12,4))\n",
    "fig = sns.barplot(x='Accuracy', y='Classifier', data=log1, palette=sns.color_palette(\"Blues_r\", n_colors=len('classifier')))\n",
    "plt.xlabel('Accuracy %', fontsize=18)\n",
    "plt.ylabel('Classifier Model',fontsize=18, position=(0,1),rotation=0)\n",
    "fig.yaxis.labelpad= -125\n",
    "fig.set_xticks(ticks=[0,10,20,30,40,50,60,70,80,90])\n",
    "plt.xticks(fontsize=18)\n",
    "plt.yticks(fontsize=16)\n",
    "plt.title('Classifier Accuracy', fontsize=18)\n",
    "plt.axvline(83.8, 0,1, lw=4, color='red')\n",
    "# plt.annotate(s='Baseline:83.8%', xy=(75,-0.5), fontsize=16, color='black')\n",
    "plt.show()\n",
    "plt.figure(figsize=(12,4))\n",
    "fig = sns.barplot(x='Log Loss', y='Classifier', data=log2, palette=sns.color_palette(\"Blues\", n_colors=len('Classifier')))\n",
    "plt.xlabel('Log Loss', fontsize=18)\n",
    "plt.ylabel('Classifier Model',fontsize=18, position=(0,1),rotation=0)\n",
    "fig.yaxis.labelpad= -125\n",
    "plt.xticks(fontsize=18)\n",
    "plt.yticks(fontsize=16)\n",
    "plt.title('Classifier Log Loss', fontsize=18)\n",
    "plt.show()"
   ]
  },
  {
   "cell_type": "code",
   "execution_count": 202,
   "id": "aa1ec347-f93f-4027-b8c5-5292ea3b1498",
   "metadata": {},
   "outputs": [],
   "source": [
    "#hyperparameter tunning"
   ]
  },
  {
   "cell_type": "code",
   "execution_count": 203,
   "id": "7b058086-a38c-4714-b44d-759b3f2193ee",
   "metadata": {},
   "outputs": [
    {
     "name": "stdout",
     "output_type": "stream",
     "text": [
      "{'max_features': 'sqrt', 'n_estimators': 100}\n"
     ]
    }
   ],
   "source": [
    "rfc = RandomForestClassifier(n_jobs=-1,max_features= 'sqrt' ,n_estimators=50, oob_score = True) \n",
    "\n",
    "param_grid = { \n",
    "    'n_estimators': [100,200,500],\n",
    "    'max_features': ['auto', 'sqrt', 'log2']\n",
    "}\n",
    "\n",
    "CV_rfc = GridSearchCV(estimator=rfc, param_grid=param_grid, cv= 5)\n",
    "CV_rfc.fit(X_train, y_train)\n",
    "print(CV_rfc.best_params_)"
   ]
  },
  {
   "cell_type": "code",
   "execution_count": 204,
   "id": "1533ec46-f654-4e89-9063-f4f1e7bd7c9d",
   "metadata": {},
   "outputs": [],
   "source": [
    "#Selecting tunned hyperparameter\n",
    "rfc = RandomForestClassifier(n_jobs=-1,max_features= 'log2' ,n_estimators=100, oob_score = True,class_weight='balanced') "
   ]
  },
  {
   "cell_type": "code",
   "execution_count": 205,
   "id": "1d99282c-5cf1-4410-9af1-fcc91c7f82e3",
   "metadata": {},
   "outputs": [
    {
     "data": {
      "text/html": [
       "<style>#sk-container-id-8 {color: black;background-color: white;}#sk-container-id-8 pre{padding: 0;}#sk-container-id-8 div.sk-toggleable {background-color: white;}#sk-container-id-8 label.sk-toggleable__label {cursor: pointer;display: block;width: 100%;margin-bottom: 0;padding: 0.3em;box-sizing: border-box;text-align: center;}#sk-container-id-8 label.sk-toggleable__label-arrow:before {content: \"▸\";float: left;margin-right: 0.25em;color: #696969;}#sk-container-id-8 label.sk-toggleable__label-arrow:hover:before {color: black;}#sk-container-id-8 div.sk-estimator:hover label.sk-toggleable__label-arrow:before {color: black;}#sk-container-id-8 div.sk-toggleable__content {max-height: 0;max-width: 0;overflow: hidden;text-align: left;background-color: #f0f8ff;}#sk-container-id-8 div.sk-toggleable__content pre {margin: 0.2em;color: black;border-radius: 0.25em;background-color: #f0f8ff;}#sk-container-id-8 input.sk-toggleable__control:checked~div.sk-toggleable__content {max-height: 200px;max-width: 100%;overflow: auto;}#sk-container-id-8 input.sk-toggleable__control:checked~label.sk-toggleable__label-arrow:before {content: \"▾\";}#sk-container-id-8 div.sk-estimator input.sk-toggleable__control:checked~label.sk-toggleable__label {background-color: #d4ebff;}#sk-container-id-8 div.sk-label input.sk-toggleable__control:checked~label.sk-toggleable__label {background-color: #d4ebff;}#sk-container-id-8 input.sk-hidden--visually {border: 0;clip: rect(1px 1px 1px 1px);clip: rect(1px, 1px, 1px, 1px);height: 1px;margin: -1px;overflow: hidden;padding: 0;position: absolute;width: 1px;}#sk-container-id-8 div.sk-estimator {font-family: monospace;background-color: #f0f8ff;border: 1px dotted black;border-radius: 0.25em;box-sizing: border-box;margin-bottom: 0.5em;}#sk-container-id-8 div.sk-estimator:hover {background-color: #d4ebff;}#sk-container-id-8 div.sk-parallel-item::after {content: \"\";width: 100%;border-bottom: 1px solid gray;flex-grow: 1;}#sk-container-id-8 div.sk-label:hover label.sk-toggleable__label {background-color: #d4ebff;}#sk-container-id-8 div.sk-serial::before {content: \"\";position: absolute;border-left: 1px solid gray;box-sizing: border-box;top: 0;bottom: 0;left: 50%;z-index: 0;}#sk-container-id-8 div.sk-serial {display: flex;flex-direction: column;align-items: center;background-color: white;padding-right: 0.2em;padding-left: 0.2em;position: relative;}#sk-container-id-8 div.sk-item {position: relative;z-index: 1;}#sk-container-id-8 div.sk-parallel {display: flex;align-items: stretch;justify-content: center;background-color: white;position: relative;}#sk-container-id-8 div.sk-item::before, #sk-container-id-8 div.sk-parallel-item::before {content: \"\";position: absolute;border-left: 1px solid gray;box-sizing: border-box;top: 0;bottom: 0;left: 50%;z-index: -1;}#sk-container-id-8 div.sk-parallel-item {display: flex;flex-direction: column;z-index: 1;position: relative;background-color: white;}#sk-container-id-8 div.sk-parallel-item:first-child::after {align-self: flex-end;width: 50%;}#sk-container-id-8 div.sk-parallel-item:last-child::after {align-self: flex-start;width: 50%;}#sk-container-id-8 div.sk-parallel-item:only-child::after {width: 0;}#sk-container-id-8 div.sk-dashed-wrapped {border: 1px dashed gray;margin: 0 0.4em 0.5em 0.4em;box-sizing: border-box;padding-bottom: 0.4em;background-color: white;}#sk-container-id-8 div.sk-label label {font-family: monospace;font-weight: bold;display: inline-block;line-height: 1.2em;}#sk-container-id-8 div.sk-label-container {text-align: center;}#sk-container-id-8 div.sk-container {/* jupyter's `normalize.less` sets `[hidden] { display: none; }` but bootstrap.min.css set `[hidden] { display: none !important; }` so we also need the `!important` here to be able to override the default hidden behavior on the sphinx rendered scikit-learn.org. See: https://github.com/scikit-learn/scikit-learn/issues/21755 */display: inline-block !important;position: relative;}#sk-container-id-8 div.sk-text-repr-fallback {display: none;}</style><div id=\"sk-container-id-8\" class=\"sk-top-container\"><div class=\"sk-text-repr-fallback\"><pre>RandomForestClassifier(class_weight=&#x27;balanced&#x27;, max_features=&#x27;log2&#x27;, n_jobs=-1,\n",
       "                       oob_score=True)</pre><b>In a Jupyter environment, please rerun this cell to show the HTML representation or trust the notebook. <br />On GitHub, the HTML representation is unable to render, please try loading this page with nbviewer.org.</b></div><div class=\"sk-container\" hidden><div class=\"sk-item\"><div class=\"sk-estimator sk-toggleable\"><input class=\"sk-toggleable__control sk-hidden--visually\" id=\"sk-estimator-id-16\" type=\"checkbox\" checked><label for=\"sk-estimator-id-16\" class=\"sk-toggleable__label sk-toggleable__label-arrow\">RandomForestClassifier</label><div class=\"sk-toggleable__content\"><pre>RandomForestClassifier(class_weight=&#x27;balanced&#x27;, max_features=&#x27;log2&#x27;, n_jobs=-1,\n",
       "                       oob_score=True)</pre></div></div></div></div></div>"
      ],
      "text/plain": [
       "RandomForestClassifier(class_weight='balanced', max_features='log2', n_jobs=-1,\n",
       "                       oob_score=True)"
      ]
     },
     "execution_count": 205,
     "metadata": {},
     "output_type": "execute_result"
    }
   ],
   "source": [
    "rfc.fit(X_train,y_train)"
   ]
  },
  {
   "cell_type": "code",
   "execution_count": 206,
   "id": "5270b825-c2a1-45cb-b465-c87924a57f8a",
   "metadata": {},
   "outputs": [],
   "source": [
    "rfc_y_pred = rfc.predict(X_test)"
   ]
  },
  {
   "cell_type": "code",
   "execution_count": 207,
   "id": "60010542-0bf2-46b6-8d4a-fa98d374961e",
   "metadata": {},
   "outputs": [
    {
     "name": "stdout",
     "output_type": "stream",
     "text": [
      "[[1522  324]\n",
      " [ 175  304]]\n"
     ]
    }
   ],
   "source": [
    "print(confusion_matrix(rfc_y_pred,y_test))"
   ]
  },
  {
   "cell_type": "code",
   "execution_count": 208,
   "id": "f7962c78-d89b-429b-b89c-f52290fb93c2",
   "metadata": {},
   "outputs": [
    {
     "name": "stdout",
     "output_type": "stream",
     "text": [
      "              precision    recall  f1-score   support\n",
      "\n",
      "           0       0.90      0.82      0.86      1846\n",
      "           1       0.48      0.63      0.55       479\n",
      "\n",
      "    accuracy                           0.79      2325\n",
      "   macro avg       0.69      0.73      0.70      2325\n",
      "weighted avg       0.81      0.79      0.80      2325\n",
      "\n"
     ]
    }
   ],
   "source": [
    "print(classification_report(rfc_y_pred,y_test))"
   ]
  },
  {
   "cell_type": "code",
   "execution_count": 232,
   "id": "c49e0261-e4bc-4bca-8ebd-6cb7d9810e53",
   "metadata": {},
   "outputs": [],
   "source": [
    "dictt = {'Fiber optic':0, 'DSL':1, 'No':2}\n"
   ]
  },
  {
   "cell_type": "code",
   "execution_count": 237,
   "id": "7bd47be1-3cf4-4f4d-9168-cb72ebd3c082",
   "metadata": {},
   "outputs": [
    {
     "data": {
      "text/plain": [
       "Index(['tenure', 'InternetService', 'OnlineSecurity', 'OnlineBackup',\n",
       "       'TechSupport', 'Contract', 'PaymentMethod', 'MonthlyCharges',\n",
       "       'TotalCharges'],\n",
       "      dtype='object')"
      ]
     },
     "execution_count": 237,
     "metadata": {},
     "output_type": "execute_result"
    }
   ],
   "source": [
    "X_test.columns"
   ]
  },
  {
   "cell_type": "code",
   "execution_count": 243,
   "id": "ef629f76-b449-476c-be92-e5b8ea583d49",
   "metadata": {},
   "outputs": [
    {
     "data": {
      "text/plain": [
       "Fiber optic    3096\n",
       "DSL            2421\n",
       "No             1526\n",
       "Name: InternetService, dtype: int64"
      ]
     },
     "execution_count": 243,
     "metadata": {},
     "output_type": "execute_result"
    }
   ],
   "source": [
    "data[X_test.columns]['InternetService'].value_counts()"
   ]
  },
  {
   "cell_type": "code",
   "execution_count": 210,
   "id": "246d8d6f-ea04-4195-bc9d-6a6ff204a40d",
   "metadata": {},
   "outputs": [],
   "source": [
    "#Selecting tunned hyperparameter\n",
    "lr = LogisticRegression(class_weight='balanced') "
   ]
  },
  {
   "cell_type": "code",
   "execution_count": 211,
   "id": "3f906df1-f595-4002-9a69-36c9546e8e67",
   "metadata": {},
   "outputs": [
    {
     "data": {
      "text/html": [
       "<style>#sk-container-id-9 {color: black;background-color: white;}#sk-container-id-9 pre{padding: 0;}#sk-container-id-9 div.sk-toggleable {background-color: white;}#sk-container-id-9 label.sk-toggleable__label {cursor: pointer;display: block;width: 100%;margin-bottom: 0;padding: 0.3em;box-sizing: border-box;text-align: center;}#sk-container-id-9 label.sk-toggleable__label-arrow:before {content: \"▸\";float: left;margin-right: 0.25em;color: #696969;}#sk-container-id-9 label.sk-toggleable__label-arrow:hover:before {color: black;}#sk-container-id-9 div.sk-estimator:hover label.sk-toggleable__label-arrow:before {color: black;}#sk-container-id-9 div.sk-toggleable__content {max-height: 0;max-width: 0;overflow: hidden;text-align: left;background-color: #f0f8ff;}#sk-container-id-9 div.sk-toggleable__content pre {margin: 0.2em;color: black;border-radius: 0.25em;background-color: #f0f8ff;}#sk-container-id-9 input.sk-toggleable__control:checked~div.sk-toggleable__content {max-height: 200px;max-width: 100%;overflow: auto;}#sk-container-id-9 input.sk-toggleable__control:checked~label.sk-toggleable__label-arrow:before {content: \"▾\";}#sk-container-id-9 div.sk-estimator input.sk-toggleable__control:checked~label.sk-toggleable__label {background-color: #d4ebff;}#sk-container-id-9 div.sk-label input.sk-toggleable__control:checked~label.sk-toggleable__label {background-color: #d4ebff;}#sk-container-id-9 input.sk-hidden--visually {border: 0;clip: rect(1px 1px 1px 1px);clip: rect(1px, 1px, 1px, 1px);height: 1px;margin: -1px;overflow: hidden;padding: 0;position: absolute;width: 1px;}#sk-container-id-9 div.sk-estimator {font-family: monospace;background-color: #f0f8ff;border: 1px dotted black;border-radius: 0.25em;box-sizing: border-box;margin-bottom: 0.5em;}#sk-container-id-9 div.sk-estimator:hover {background-color: #d4ebff;}#sk-container-id-9 div.sk-parallel-item::after {content: \"\";width: 100%;border-bottom: 1px solid gray;flex-grow: 1;}#sk-container-id-9 div.sk-label:hover label.sk-toggleable__label {background-color: #d4ebff;}#sk-container-id-9 div.sk-serial::before {content: \"\";position: absolute;border-left: 1px solid gray;box-sizing: border-box;top: 0;bottom: 0;left: 50%;z-index: 0;}#sk-container-id-9 div.sk-serial {display: flex;flex-direction: column;align-items: center;background-color: white;padding-right: 0.2em;padding-left: 0.2em;position: relative;}#sk-container-id-9 div.sk-item {position: relative;z-index: 1;}#sk-container-id-9 div.sk-parallel {display: flex;align-items: stretch;justify-content: center;background-color: white;position: relative;}#sk-container-id-9 div.sk-item::before, #sk-container-id-9 div.sk-parallel-item::before {content: \"\";position: absolute;border-left: 1px solid gray;box-sizing: border-box;top: 0;bottom: 0;left: 50%;z-index: -1;}#sk-container-id-9 div.sk-parallel-item {display: flex;flex-direction: column;z-index: 1;position: relative;background-color: white;}#sk-container-id-9 div.sk-parallel-item:first-child::after {align-self: flex-end;width: 50%;}#sk-container-id-9 div.sk-parallel-item:last-child::after {align-self: flex-start;width: 50%;}#sk-container-id-9 div.sk-parallel-item:only-child::after {width: 0;}#sk-container-id-9 div.sk-dashed-wrapped {border: 1px dashed gray;margin: 0 0.4em 0.5em 0.4em;box-sizing: border-box;padding-bottom: 0.4em;background-color: white;}#sk-container-id-9 div.sk-label label {font-family: monospace;font-weight: bold;display: inline-block;line-height: 1.2em;}#sk-container-id-9 div.sk-label-container {text-align: center;}#sk-container-id-9 div.sk-container {/* jupyter's `normalize.less` sets `[hidden] { display: none; }` but bootstrap.min.css set `[hidden] { display: none !important; }` so we also need the `!important` here to be able to override the default hidden behavior on the sphinx rendered scikit-learn.org. See: https://github.com/scikit-learn/scikit-learn/issues/21755 */display: inline-block !important;position: relative;}#sk-container-id-9 div.sk-text-repr-fallback {display: none;}</style><div id=\"sk-container-id-9\" class=\"sk-top-container\"><div class=\"sk-text-repr-fallback\"><pre>LogisticRegression(class_weight=&#x27;balanced&#x27;)</pre><b>In a Jupyter environment, please rerun this cell to show the HTML representation or trust the notebook. <br />On GitHub, the HTML representation is unable to render, please try loading this page with nbviewer.org.</b></div><div class=\"sk-container\" hidden><div class=\"sk-item\"><div class=\"sk-estimator sk-toggleable\"><input class=\"sk-toggleable__control sk-hidden--visually\" id=\"sk-estimator-id-17\" type=\"checkbox\" checked><label for=\"sk-estimator-id-17\" class=\"sk-toggleable__label sk-toggleable__label-arrow\">LogisticRegression</label><div class=\"sk-toggleable__content\"><pre>LogisticRegression(class_weight=&#x27;balanced&#x27;)</pre></div></div></div></div></div>"
      ],
      "text/plain": [
       "LogisticRegression(class_weight='balanced')"
      ]
     },
     "execution_count": 211,
     "metadata": {},
     "output_type": "execute_result"
    }
   ],
   "source": [
    "lr.fit(X_train,y_train)"
   ]
  },
  {
   "cell_type": "code",
   "execution_count": 212,
   "id": "25d70565-5bda-4a21-b07e-5d9b2a3db3d8",
   "metadata": {},
   "outputs": [],
   "source": [
    "lr_y_pred = lr.predict(X_test)"
   ]
  },
  {
   "cell_type": "code",
   "execution_count": 213,
   "id": "2bc5d379-df50-45dc-bd31-4242860ad0f5",
   "metadata": {},
   "outputs": [
    {
     "name": "stdout",
     "output_type": "stream",
     "text": [
      "[[1209  112]\n",
      " [ 488  516]]\n"
     ]
    }
   ],
   "source": [
    "print(confusion_matrix(lr_y_pred,y_test))"
   ]
  },
  {
   "cell_type": "code",
   "execution_count": 214,
   "id": "ecbd6c81-dbfb-4130-9a75-dd5a71f2b6ec",
   "metadata": {},
   "outputs": [
    {
     "name": "stdout",
     "output_type": "stream",
     "text": [
      "              precision    recall  f1-score   support\n",
      "\n",
      "           0       0.71      0.92      0.80      1321\n",
      "           1       0.82      0.51      0.63      1004\n",
      "\n",
      "    accuracy                           0.74      2325\n",
      "   macro avg       0.77      0.71      0.72      2325\n",
      "weighted avg       0.76      0.74      0.73      2325\n",
      "\n"
     ]
    }
   ],
   "source": [
    "print(classification_report(lr_y_pred,y_test))"
   ]
  },
  {
   "cell_type": "code",
   "execution_count": null,
   "id": "8f6f8aaa-ed4c-439a-923a-785b1a751d70",
   "metadata": {},
   "outputs": [],
   "source": []
  },
  {
   "cell_type": "code",
   "execution_count": null,
   "id": "b7b56441-7088-407d-8417-8c5bb3eed3ef",
   "metadata": {},
   "outputs": [],
   "source": []
  },
  {
   "cell_type": "code",
   "execution_count": 216,
   "id": "ffb14137-6b62-49e9-b14a-22795cb58330",
   "metadata": {},
   "outputs": [],
   "source": [
    "#Linear Model Logistic Regression has working better than any Tree Based Model\n",
    "import joblib"
   ]
  },
  {
   "cell_type": "code",
   "execution_count": 217,
   "id": "3add654d-e3b3-4bf7-90e8-eda0ab9f05bb",
   "metadata": {},
   "outputs": [
    {
     "data": {
      "text/plain": [
       "['finalized_model.sav']"
      ]
     },
     "execution_count": 217,
     "metadata": {},
     "output_type": "execute_result"
    }
   ],
   "source": [
    "filename = 'finalized_model.sav'\n",
    "joblib.dump(lr, filename)"
   ]
  },
  {
   "cell_type": "code",
   "execution_count": 179,
   "id": "7706b8e7-2677-4bfb-8afd-d8b13e6f2426",
   "metadata": {},
   "outputs": [],
   "source": [
    "#Model Explainalibility "
   ]
  },
  {
   "cell_type": "code",
   "execution_count": 219,
   "id": "5ea66716-bc42-44ab-b126-c3caea528601",
   "metadata": {},
   "outputs": [
    {
     "name": "stdout",
     "output_type": "stream",
     "text": [
      "WARNING: For shap='linear', shap interaction values can unfortunately not be calculated!\n",
      "Note: model_output='probability' is currently not supported for linear classifiers models with shap. So defaulting to model_output='logodds' If you really need probability outputs use shap='kernel' instead.\n",
      "Note: shap values for shap='linear' get calculated against X_background, but paramater X_background=None, so using X instead...\n",
      "Generating self.shap_explainer = shap.LinearExplainer(model, X)...\n",
      "Building ExplainerDashboard..\n",
      "Detected notebook environment, consider setting mode='external', mode='inline' or mode='jupyterlab' to keep the notebook interactive while the dashboard is running...\n",
      "For this type of model and model_output interactions don't work, so setting shap_interaction=False...\n",
      "The explainer object has no decision_trees property. so setting decision_trees=False...\n",
      "Generating layout...\n",
      "Calculating shap values...\n",
      "Calculating prediction probabilities...\n",
      "Calculating metrics...\n",
      "Calculating confusion matrices...\n",
      "Calculating classification_dfs...\n",
      "Calculating roc auc curves...\n",
      "Calculating pr auc curves...\n",
      "Calculating liftcurve_dfs...\n",
      "Calculating dependencies...\n",
      "Calculating permutation importances (if slow, try setting n_jobs parameter)...\n",
      "Calculating pred_percentiles...\n",
      "Calculating predictions...\n",
      "Reminder: you can store the explainer (including calculated dependencies) with explainer.dump('explainer.joblib') and reload with e.g. ClassifierExplainer.from_file('explainer.joblib')\n",
      "Registering callbacks...\n",
      "Starting ExplainerDashboard on http://192.168.0.193:8050\n",
      "Dash is running on http://0.0.0.0:8050/\n",
      "\n",
      "Dash is running on http://0.0.0.0:8050/\n",
      "\n",
      "Dash is running on http://0.0.0.0:8050/\n",
      "\n",
      " * Serving Flask app \"explainerdashboard.dashboards\" (lazy loading)\n",
      " * Environment: production\n",
      "\u001b[31m   WARNING: This is a development server. Do not use it in a production deployment.\u001b[0m\n",
      "\u001b[2m   Use a production WSGI server instead.\u001b[0m\n",
      " * Debug mode: off\n"
     ]
    },
    {
     "name": "stderr",
     "output_type": "stream",
     "text": [
      " * Running on all addresses.\n",
      "   WARNING: This is a development server. Do not use it in a production deployment.\n",
      " * Running on http://192.168.0.193:8050/ (Press CTRL+C to quit)\n",
      "192.168.0.193 - - [20/Apr/2023 13:59:48] \"GET / HTTP/1.1\" 200 -\n",
      "192.168.0.193 - - [20/Apr/2023 13:59:49] \"GET /_dash-layout HTTP/1.1\" 200 -\n",
      "192.168.0.193 - - [20/Apr/2023 13:59:49] \"GET /_dash-dependencies HTTP/1.1\" 200 -\n",
      "192.168.0.193 - - [20/Apr/2023 13:59:49] \"GET /_dash-component-suites/dash/dcc/async-dropdown.js HTTP/1.1\" 200 -\n",
      "192.168.0.193 - - [20/Apr/2023 13:59:49] \"GET /_dash-component-suites/dash/dcc/async-graph.js HTTP/1.1\" 200 -\n",
      "192.168.0.193 - - [20/Apr/2023 13:59:49] \"GET /_dash-component-suites/dash/dcc/async-plotlyjs.js HTTP/1.1\" 304 -\n",
      "192.168.0.193 - - [20/Apr/2023 13:59:49] \"POST /_dash-update-component HTTP/1.1\" 200 -\n",
      "192.168.0.193 - - [20/Apr/2023 13:59:49] \"POST /_dash-update-component HTTP/1.1\" 200 -\n",
      "192.168.0.193 - - [20/Apr/2023 13:59:49] \"POST /_dash-update-component HTTP/1.1\" 200 -\n",
      "192.168.0.193 - - [20/Apr/2023 13:59:49] \"POST /_dash-update-component HTTP/1.1\" 200 -\n",
      "192.168.0.193 - - [20/Apr/2023 13:59:49] \"POST /_dash-update-component HTTP/1.1\" 200 -\n",
      "192.168.0.193 - - [20/Apr/2023 13:59:49] \"POST /_dash-update-component HTTP/1.1\" 200 -\n",
      "192.168.0.193 - - [20/Apr/2023 13:59:49] \"POST /_dash-update-component HTTP/1.1\" 200 -\n",
      "192.168.0.193 - - [20/Apr/2023 13:59:49] \"POST /_dash-update-component HTTP/1.1\" 200 -\n",
      "192.168.0.193 - - [20/Apr/2023 13:59:49] \"POST /_dash-update-component HTTP/1.1\" 200 -\n",
      "192.168.0.193 - - [20/Apr/2023 13:59:49] \"POST /_dash-update-component HTTP/1.1\" 200 -\n",
      "192.168.0.193 - - [20/Apr/2023 13:59:49] \"POST /_dash-update-component HTTP/1.1\" 200 -\n",
      "192.168.0.193 - - [20/Apr/2023 13:59:49] \"POST /_dash-update-component HTTP/1.1\" 200 -\n",
      "192.168.0.193 - - [20/Apr/2023 13:59:49] \"POST /_dash-update-component HTTP/1.1\" 200 -\n",
      "192.168.0.193 - - [20/Apr/2023 13:59:49] \"POST /_dash-update-component HTTP/1.1\" 200 -\n",
      "192.168.0.193 - - [20/Apr/2023 13:59:49] \"POST /_dash-update-component HTTP/1.1\" 200 -\n",
      "192.168.0.193 - - [20/Apr/2023 13:59:49] \"POST /_dash-update-component HTTP/1.1\" 200 -\n",
      "192.168.0.193 - - [20/Apr/2023 13:59:49] \"POST /_dash-update-component HTTP/1.1\" 200 -\n",
      "192.168.0.193 - - [20/Apr/2023 13:59:49] \"POST /_dash-update-component HTTP/1.1\" 200 -\n",
      "192.168.0.193 - - [20/Apr/2023 13:59:50] \"POST /_dash-update-component HTTP/1.1\" 200 -\n",
      "192.168.0.193 - - [20/Apr/2023 13:59:50] \"POST /_dash-update-component HTTP/1.1\" 200 -\n",
      "192.168.0.193 - - [20/Apr/2023 13:59:50] \"POST /_dash-update-component HTTP/1.1\" 200 -\n",
      "192.168.0.193 - - [20/Apr/2023 13:59:50] \"POST /_dash-update-component HTTP/1.1\" 200 -\n",
      "192.168.0.193 - - [20/Apr/2023 13:59:50] \"POST /_dash-update-component HTTP/1.1\" 200 -\n",
      "192.168.0.193 - - [20/Apr/2023 13:59:50] \"POST /_dash-update-component HTTP/1.1\" 200 -\n",
      "192.168.0.193 - - [20/Apr/2023 13:59:50] \"POST /_dash-update-component HTTP/1.1\" 200 -\n",
      "192.168.0.193 - - [20/Apr/2023 13:59:50] \"POST /_dash-update-component HTTP/1.1\" 200 -\n",
      "192.168.0.193 - - [20/Apr/2023 13:59:50] \"POST /_dash-update-component HTTP/1.1\" 200 -\n",
      "192.168.0.193 - - [20/Apr/2023 13:59:50] \"POST /_dash-update-component HTTP/1.1\" 204 -\n",
      "192.168.0.193 - - [20/Apr/2023 13:59:50] \"POST /_dash-update-component HTTP/1.1\" 200 -\n",
      "192.168.0.193 - - [20/Apr/2023 13:59:50] \"POST /_dash-update-component HTTP/1.1\" 200 -\n",
      "192.168.0.193 - - [20/Apr/2023 13:59:50] \"POST /_dash-update-component HTTP/1.1\" 200 -\n",
      "192.168.0.193 - - [20/Apr/2023 13:59:50] \"POST /_dash-update-component HTTP/1.1\" 200 -\n",
      "192.168.0.193 - - [20/Apr/2023 13:59:50] \"POST /_dash-update-component HTTP/1.1\" 200 -\n",
      "192.168.0.193 - - [20/Apr/2023 13:59:50] \"POST /_dash-update-component HTTP/1.1\" 200 -\n",
      "192.168.0.193 - - [20/Apr/2023 13:59:50] \"POST /_dash-update-component HTTP/1.1\" 200 -\n",
      "192.168.0.193 - - [20/Apr/2023 13:59:50] \"POST /_dash-update-component HTTP/1.1\" 200 -\n",
      "192.168.0.193 - - [20/Apr/2023 13:59:50] \"POST /_dash-update-component HTTP/1.1\" 204 -\n",
      "192.168.0.193 - - [20/Apr/2023 13:59:50] \"POST /_dash-update-component HTTP/1.1\" 200 -\n",
      "192.168.0.193 - - [20/Apr/2023 13:59:50] \"POST /_dash-update-component HTTP/1.1\" 200 -\n",
      "192.168.0.193 - - [20/Apr/2023 13:59:50] \"POST /_dash-update-component HTTP/1.1\" 200 -\n",
      "192.168.0.193 - - [20/Apr/2023 13:59:50] \"POST /_dash-update-component HTTP/1.1\" 200 -\n",
      "192.168.0.193 - - [20/Apr/2023 13:59:50] \"POST /_dash-update-component HTTP/1.1\" 204 -\n",
      "192.168.0.193 - - [20/Apr/2023 13:59:50] \"POST /_dash-update-component HTTP/1.1\" 200 -\n",
      "192.168.0.193 - - [20/Apr/2023 13:59:50] \"POST /_dash-update-component HTTP/1.1\" 200 -\n",
      "192.168.0.193 - - [20/Apr/2023 13:59:50] \"POST /_dash-update-component HTTP/1.1\" 200 -\n",
      "192.168.0.193 - - [20/Apr/2023 13:59:50] \"POST /_dash-update-component HTTP/1.1\" 200 -\n",
      "192.168.0.193 - - [20/Apr/2023 13:59:50] \"POST /_dash-update-component HTTP/1.1\" 200 -\n",
      "192.168.0.193 - - [20/Apr/2023 13:59:50] \"POST /_dash-update-component HTTP/1.1\" 200 -\n",
      "192.168.0.193 - - [20/Apr/2023 13:59:50] \"POST /_dash-update-component HTTP/1.1\" 200 -\n",
      "192.168.0.193 - - [20/Apr/2023 13:59:50] \"POST /_dash-update-component HTTP/1.1\" 200 -\n",
      "192.168.0.193 - - [20/Apr/2023 13:59:51] \"POST /_dash-update-component HTTP/1.1\" 200 -\n",
      "192.168.0.193 - - [20/Apr/2023 13:59:51] \"POST /_dash-update-component HTTP/1.1\" 200 -\n",
      "192.168.0.193 - - [20/Apr/2023 13:59:51] \"POST /_dash-update-component HTTP/1.1\" 204 -\n",
      "192.168.0.193 - - [20/Apr/2023 13:59:51] \"POST /_dash-update-component HTTP/1.1\" 200 -\n",
      "192.168.0.193 - - [20/Apr/2023 13:59:51] \"POST /_dash-update-component HTTP/1.1\" 200 -\n",
      "192.168.0.193 - - [20/Apr/2023 13:59:51] \"POST /_dash-update-component HTTP/1.1\" 200 -\n",
      "192.168.0.193 - - [20/Apr/2023 13:59:51] \"POST /_dash-update-component HTTP/1.1\" 200 -\n",
      "192.168.0.193 - - [20/Apr/2023 13:59:51] \"POST /_dash-update-component HTTP/1.1\" 200 -\n",
      "192.168.0.193 - - [20/Apr/2023 13:59:51] \"POST /_dash-update-component HTTP/1.1\" 200 -\n",
      "192.168.0.193 - - [20/Apr/2023 13:59:51] \"POST /_dash-update-component HTTP/1.1\" 200 -\n",
      "192.168.0.193 - - [20/Apr/2023 13:59:51] \"POST /_dash-update-component HTTP/1.1\" 200 -\n",
      "192.168.0.193 - - [20/Apr/2023 13:59:51] \"POST /_dash-update-component HTTP/1.1\" 200 -\n",
      "192.168.0.193 - - [20/Apr/2023 13:59:51] \"POST /_dash-update-component HTTP/1.1\" 200 -\n",
      "192.168.0.193 - - [20/Apr/2023 13:59:51] \"POST /_dash-update-component HTTP/1.1\" 200 -\n",
      "192.168.0.193 - - [20/Apr/2023 13:59:51] \"POST /_dash-update-component HTTP/1.1\" 200 -\n",
      "192.168.0.193 - - [20/Apr/2023 13:59:51] \"POST /_dash-update-component HTTP/1.1\" 200 -\n",
      "192.168.0.193 - - [20/Apr/2023 13:59:51] \"POST /_dash-update-component HTTP/1.1\" 200 -\n",
      "192.168.0.193 - - [20/Apr/2023 13:59:51] \"POST /_dash-update-component HTTP/1.1\" 200 -\n",
      "192.168.0.193 - - [20/Apr/2023 13:59:51] \"POST /_dash-update-component HTTP/1.1\" 200 -\n",
      "192.168.0.193 - - [20/Apr/2023 13:59:51] \"POST /_dash-update-component HTTP/1.1\" 200 -\n",
      "192.168.0.193 - - [20/Apr/2023 13:59:51] \"POST /_dash-update-component HTTP/1.1\" 200 -\n",
      "192.168.0.193 - - [20/Apr/2023 13:59:51] \"POST /_dash-update-component HTTP/1.1\" 200 -\n",
      "192.168.0.193 - - [20/Apr/2023 13:59:52] \"POST /_dash-update-component HTTP/1.1\" 200 -\n",
      "192.168.0.193 - - [20/Apr/2023 13:59:52] \"POST /_dash-update-component HTTP/1.1\" 200 -\n",
      "192.168.0.193 - - [20/Apr/2023 13:59:52] \"POST /_dash-update-component HTTP/1.1\" 200 -\n",
      "192.168.0.193 - - [20/Apr/2023 13:59:52] \"POST /_dash-update-component HTTP/1.1\" 200 -\n",
      "192.168.0.193 - - [20/Apr/2023 13:59:52] \"POST /_dash-update-component HTTP/1.1\" 200 -\n",
      "192.168.0.193 - - [20/Apr/2023 13:59:52] \"POST /_dash-update-component HTTP/1.1\" 200 -\n",
      "192.168.0.193 - - [20/Apr/2023 13:59:57] \"POST /_dash-update-component HTTP/1.1\" 200 -\n"
     ]
    }
   ],
   "source": [
    "from explainerdashboard import ClassifierExplainer, ExplainerDashboard\n",
    "from explainerdashboard.datasets import titanic_survive, feature_descriptions\n",
    "\n",
    "\n",
    "\n",
    "explainer = ClassifierExplainer(lr, X_test, y_test, \n",
    "                               labels=['Not Churned', 'Churned'])\n",
    "\n",
    "ExplainerDashboard(explainer).run()"
   ]
  },
  {
   "cell_type": "code",
   "execution_count": null,
   "id": "bf139dac-1c92-41f1-8244-acf37747634c",
   "metadata": {},
   "outputs": [],
   "source": []
  },
  {
   "cell_type": "code",
   "execution_count": null,
   "id": "920deaec-3a1b-4fbc-9bab-98829dd9be16",
   "metadata": {},
   "outputs": [],
   "source": []
  },
  {
   "cell_type": "code",
   "execution_count": null,
   "id": "5be0e2cc-406d-4332-985a-98840a6378d6",
   "metadata": {},
   "outputs": [],
   "source": []
  },
  {
   "cell_type": "code",
   "execution_count": null,
   "id": "a235bad8-abc0-412b-a1cd-1a2cede1c7ee",
   "metadata": {},
   "outputs": [],
   "source": []
  },
  {
   "cell_type": "code",
   "execution_count": null,
   "id": "7f34426f-f9cd-4809-b644-2a0042a4f171",
   "metadata": {},
   "outputs": [],
   "source": []
  },
  {
   "cell_type": "code",
   "execution_count": null,
   "id": "831a7322-8eaa-427f-b934-b1832eb49979",
   "metadata": {},
   "outputs": [],
   "source": []
  }
 ],
 "metadata": {
  "kernelspec": {
   "display_name": "Python 3 (ipykernel)",
   "language": "python",
   "name": "python3"
  },
  "language_info": {
   "codemirror_mode": {
    "name": "ipython",
    "version": 3
   },
   "file_extension": ".py",
   "mimetype": "text/x-python",
   "name": "python",
   "nbconvert_exporter": "python",
   "pygments_lexer": "ipython3",
   "version": "3.9.13"
  }
 },
 "nbformat": 4,
 "nbformat_minor": 5
}
